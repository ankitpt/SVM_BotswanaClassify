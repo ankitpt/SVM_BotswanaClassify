{
 "cells": [
  {
   "cell_type": "code",
   "execution_count": 165,
   "metadata": {
    "collapsed": true
   },
   "outputs": [],
   "source": [
    "import numpy as np\n",
    "from sklearn.model_selection import train_test_split\n",
    "from sklearn.metrics.classification import cohen_kappa_score\n",
    "from sklearn.metrics import accuracy_score\n",
    "from sklearn.metrics import classification_report, confusion_matrix \n",
    "import scipy.io as scio\n",
    "from sklearn.preprocessing import StandardScaler\n",
    "from sklearn.decomposition import PCA\n",
    "import time"
   ]
  },
  {
   "cell_type": "code",
   "execution_count": 145,
   "metadata": {
    "collapsed": true
   },
   "outputs": [],
   "source": [
    "class Dataset:\n",
    "    \n",
    "    def __init__(self,name,form):\n",
    "        \n",
    "        self.name=name\n",
    "        self.form=form\n",
    "        \n",
    "    def load(self):\n",
    "        \n",
    "        self.data_dict=scio.loadmat(self.name+self.form)\n",
    "        self.data=self.data_dict[self.name]"
   ]
  },
  {
   "cell_type": "code",
   "execution_count": 146,
   "metadata": {
    "collapsed": false
   },
   "outputs": [],
   "source": [
    "bots=Dataset('Botswana','.mat')\n",
    "bots.load()\n",
    "data=bots.data\n",
    "shp=np.shape(data)\n",
    "row=shp[0]\n",
    "col=shp[1]\n",
    "bands=shp[2]\n",
    "    \n",
    "X=data.reshape(row*col,bands)\n",
    "    \n",
    "#Obtaining data in desired form\n",
    "bots_gt=Dataset('Botswana_gt','.mat')\n",
    "bots_gt.load()\n",
    "y=bots_gt.data.reshape(row*col,1)\n",
    "ind=np.where(y[:,0]!=0)\n",
    "X=X[ind]\n",
    "y = y[y!=0]"
   ]
  },
  {
   "cell_type": "code",
   "execution_count": 170,
   "metadata": {
    "collapsed": false
   },
   "outputs": [
    {
     "name": "stderr",
     "output_type": "stream",
     "text": [
      "C:\\Users\\Ankit\\Anaconda2\\envs\\py36\\lib\\site-packages\\sklearn\\utils\\validation.py:444: DataConversionWarning: Data with input dtype uint16 was converted to float64 by StandardScaler.\n",
      "  warnings.warn(msg, DataConversionWarning)\n"
     ]
    }
   ],
   "source": [
    "X_train, X_test, y_train, y_test = train_test_split(X, y, test_size=0.33)\n",
    "sc = StandardScaler()\n",
    "sc.fit_transform(X_train)\n",
    "Xn_train = sc.transform(X_train)\n",
    "Xn_test = sc.transform(X_test)\n",
    "\n",
    "pca = PCA(n_components=5)\n",
    "pca.fit_transform(Xn_train)\n",
    "Xpc_train = pca.transform(Xn_train)\n",
    "Xpc_test = pca.transform(Xn_test)"
   ]
  },
  {
   "cell_type": "code",
   "execution_count": 171,
   "metadata": {
    "collapsed": false
   },
   "outputs": [
    {
     "name": "stdout",
     "output_type": "stream",
     "text": [
      "Training time is 0.1169278621673584 seconds ---\n"
     ]
    }
   ],
   "source": [
    "mu=dict()\n",
    "icov=dict()\n",
    "det=dict()\n",
    "start_time = time.time()\n",
    "for cls in np.unique(y_train):\n",
    "    ind=np.where(y_train==cls)\n",
    "    X_cls=Xpc_train[ind]\n",
    "    mu[cls]=np.mean(X_cls,0)\n",
    "    cov=np.cov(X_cls.T)\n",
    "    det[cls]=np.linalg.det(cov)\n",
    "    icov[cls] = np.linalg.inv(cov)\n",
    "print(\"Training time is %s seconds ---\" % (time.time() - start_time))"
   ]
  },
  {
   "cell_type": "code",
   "execution_count": 172,
   "metadata": {
    "collapsed": false
   },
   "outputs": [],
   "source": [
    "def find_class(test,mu,det,icov):\n",
    "    tot_cls=len(det)\n",
    "    pmax=-1000000000000000\n",
    "    for i in list(range(1,15,1)):\n",
    "        test_s=test-mu[i]\n",
    "        logp=-np.log(det[i])-np.matmul(np.matmul(test_s,icov[i]),test_s.T)\n",
    "    \n",
    "        if(logp>pmax):\n",
    "            pmax=logp\n",
    "            y_pred=i\n",
    "    return y_pred\n",
    "    "
   ]
  },
  {
   "cell_type": "code",
   "execution_count": 173,
   "metadata": {
    "collapsed": false
   },
   "outputs": [
    {
     "name": "stdout",
     "output_type": "stream",
     "text": [
      "Testing time is 0.2168745994567871 seconds ---\n"
     ]
    }
   ],
   "source": [
    "y_pred=np.zeros(len((y_test)))\n",
    "i=0\n",
    "start_time = time.time()\n",
    "for test in Xpc_test:\n",
    "    y_pred[i]=find_class(test,mu,det,icov)\n",
    "    i=i+1\n",
    "\n",
    "print(\"Testing time is %s seconds ---\" % (time.time() - start_time))"
   ]
  },
  {
   "cell_type": "code",
   "execution_count": 174,
   "metadata": {
    "collapsed": false
   },
   "outputs": [
    {
     "name": "stdout",
     "output_type": "stream",
     "text": [
      "Accuracy: 0.93\n",
      "Kappa coefficient: 0.92\n",
      "[[89  0  0  0  0  0  0  0  0  0  0  0  0  0]\n",
      " [ 0 35  0  0  0  1  0  0  0  0  0  0  0  0]\n",
      " [ 0  0 87  0  0  0  0  0  0  1  0  0  0  0]\n",
      " [ 0  0  0 67  0  0  2  0  0  0  0  0  0  0]\n",
      " [ 0  4  0  1 61  8  0  0  0  0  0  0  0  1]\n",
      " [ 0  0  0  0  8 79  0  0 10  0  0  0  0  0]\n",
      " [ 0  0  1  0  1  0 76  0  0  0  0  0  0  0]\n",
      " [ 0  0  0  0  0  0  0 62  0  1  0  0  0  0]\n",
      " [ 0  0  0  0  0 14  0  0 96  2  0  0  3  0]\n",
      " [ 0  0  0  0  0  0  0  1  0 87  7  0  0  0]\n",
      " [ 0  0  0  0  0  0  0  0  0  6 89  0  0  0]\n",
      " [ 0  0  0  0  0  0  0  0  0  0  0 53  0  0]\n",
      " [ 0  0  0  0  0  1  0  0  0  1  0  5 87  0]\n",
      " [ 0  0  0  0  0  0  0  0  0  0  0  0  0 25]]\n"
     ]
    }
   ],
   "source": [
    "acc=accuracy_score(y_test, y_pred)\n",
    "print(\"Accuracy: %0.2f\" % acc)\n",
    "kappa_score = cohen_kappa_score(y_test,y_pred)\n",
    "print(\"Kappa coefficient: %0.2f\" % kappa_score)\n",
    "print(confusion_matrix(y_test,y_pred))"
   ]
  },
  {
   "cell_type": "code",
   "execution_count": 143,
   "metadata": {
    "collapsed": false
   },
   "outputs": [
    {
     "data": {
      "text/plain": [
       "{1: 3.99005990162426e-14,\n",
       " 2: 1.9554133734685549e-11,\n",
       " 3: 7.304961553738108e-12,\n",
       " 4: 8.9330301792467667e-12,\n",
       " 5: 7.1665826983255398e-09,\n",
       " 6: 2.3494464286805212e-10,\n",
       " 7: 4.8148054861725505e-10,\n",
       " 8: 3.4517586735023008e-11,\n",
       " 9: 2.7809496982380274e-11,\n",
       " 10: 3.7070519725895129e-11,\n",
       " 11: 3.2553565618853888e-09,\n",
       " 12: 1.6356885076040704e-11,\n",
       " 13: 1.0702361727177983e-10,\n",
       " 14: 8.2435489896996506e-08}"
      ]
     },
     "execution_count": 143,
     "metadata": {},
     "output_type": "execute_result"
    }
   ],
   "source": [
    "det"
   ]
  },
  {
   "cell_type": "code",
   "execution_count": 151,
   "metadata": {
    "collapsed": false
   },
   "outputs": [
    {
     "data": {
      "text/plain": [
       "{1: 0.0017412443866393255,\n",
       " 2: 0.032848049487646795,\n",
       " 3: 0.019447831158058711,\n",
       " 4: 0.0228586509756332,\n",
       " 5: 0.85549588939860599,\n",
       " 6: 0.14508824572975557,\n",
       " 7: 3.329763986513762,\n",
       " 8: 0.10728924912949185,\n",
       " 9: 0.053426005036556416,\n",
       " 10: 0.036976737989452085,\n",
       " 11: 0.42389957877867329,\n",
       " 12: 0.029773302398706101,\n",
       " 13: 0.13934707489277223,\n",
       " 14: 64.163016920444363}"
      ]
     },
     "execution_count": 151,
     "metadata": {},
     "output_type": "execute_result"
    }
   ],
   "source": [
    "det"
   ]
  },
  {
   "cell_type": "code",
   "execution_count": 80,
   "metadata": {
    "collapsed": false
   },
   "outputs": [
    {
     "data": {
      "text/plain": [
       "array([-1.96188079, -7.15473563,  1.88305575])"
      ]
     },
     "execution_count": 80,
     "metadata": {},
     "output_type": "execute_result"
    }
   ],
   "source": [
    "test"
   ]
  },
  {
   "cell_type": "code",
   "execution_count": null,
   "metadata": {
    "collapsed": true
   },
   "outputs": [],
   "source": []
  }
 ],
 "metadata": {
  "kernelspec": {
   "display_name": "Python 3",
   "language": "python",
   "name": "python3"
  },
  "language_info": {
   "codemirror_mode": {
    "name": "ipython",
    "version": 3
   },
   "file_extension": ".py",
   "mimetype": "text/x-python",
   "name": "python",
   "nbconvert_exporter": "python",
   "pygments_lexer": "ipython3",
   "version": "3.6.2"
  }
 },
 "nbformat": 4,
 "nbformat_minor": 2
}
