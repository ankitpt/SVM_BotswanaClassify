{
 "cells": [
  {
   "cell_type": "code",
   "execution_count": 1,
   "metadata": {
    "collapsed": true
   },
   "outputs": [],
   "source": [
    "import time\n",
    "\n",
    "import scipy.io as scio\n",
    "from matplotlib import pyplot as plt\n",
    "import numpy as np\n",
    "import pandas as pd\n",
    "import numpy as np\n",
    "from sklearn.model_selection import train_test_split  \n",
    "from sklearn.svm import SVC  \n",
    "from sklearn.metrics import classification_report, confusion_matrix \n",
    "from sklearn.model_selection import cross_val_score, cross_val_predict\n",
    "from sklearn import metrics\n",
    "from sklearn.metrics.classification import cohen_kappa_score\n",
    "from sklearn.metrics import accuracy_score"
   ]
  },
  {
   "cell_type": "code",
   "execution_count": 2,
   "metadata": {
    "collapsed": true
   },
   "outputs": [],
   "source": [
    "class Dataset:\n",
    "    \n",
    "    def __init__(self,name,form):\n",
    "        \n",
    "        self.name=name\n",
    "        self.form=form\n",
    "        \n",
    "    def load(self):\n",
    "        \n",
    "        self.data_dict=scio.loadmat(self.name+self.form)\n",
    "        self.data=self.data_dict[self.name]"
   ]
  },
  {
   "cell_type": "markdown",
   "metadata": {},
   "source": [
    "# Designing input and output for training"
   ]
  },
  {
   "cell_type": "code",
   "execution_count": 3,
   "metadata": {
    "collapsed": true
   },
   "outputs": [],
   "source": [
    "bots=Dataset('Botswana','.mat')\n",
    "bots.load()\n",
    "data=bots.data\n",
    "shp=np.shape(data)\n",
    "row=shp[0]\n",
    "col=shp[1]\n",
    "bands=shp[2]\n",
    "    \n",
    "X=data.reshape(row*col,bands)\n",
    "    \n",
    "#Obtaining data in desired form\n",
    "bots_gt=Dataset('Botswana_gt','.mat')\n",
    "bots_gt.load()\n",
    "y=bots_gt.data.reshape(row*col,1)\n",
    "ind=np.where(y[:,0]!=0)\n",
    "X=X[ind]\n",
    "y = y[y!=0]"
   ]
  },
  {
   "cell_type": "code",
   "execution_count": 5,
   "metadata": {
    "collapsed": false
   },
   "outputs": [],
   "source": [
    "X_train, X_test, y_train, y_test = train_test_split(X, y, test_size=0.33)"
   ]
  },
  {
   "cell_type": "code",
   "execution_count": 6,
   "metadata": {
    "collapsed": true
   },
   "outputs": [],
   "source": [
    "from sklearn.preprocessing import StandardScaler"
   ]
  },
  {
   "cell_type": "code",
   "execution_count": 8,
   "metadata": {
    "collapsed": false
   },
   "outputs": [
    {
     "name": "stderr",
     "output_type": "stream",
     "text": [
      "C:\\Users\\Ankit\\Anaconda2\\envs\\py36\\lib\\site-packages\\sklearn\\utils\\validation.py:444: DataConversionWarning: Data with input dtype uint16 was converted to float64 by StandardScaler.\n",
      "  warnings.warn(msg, DataConversionWarning)\n"
     ]
    }
   ],
   "source": [
    "sc = StandardScaler()\n",
    "sc.fit_transform(X_train)\n",
    "Xn_train = sc.transform(X_train)\n",
    "Xn_test = sc.transform(X_test)"
   ]
  },
  {
   "cell_type": "code",
   "execution_count": 16,
   "metadata": {
    "collapsed": false
   },
   "outputs": [
    {
     "data": {
      "text/plain": [
       "array([[  1.52819211e+01,   6.18577104e-01,  -6.24393060e-01, ...,\n",
       "         -1.87239799e-02,   3.31730952e-02,  -3.68386882e-02],\n",
       "       [ -7.87590219e-01,   2.60233615e+00,  -1.31290319e+00, ...,\n",
       "         -1.04998451e-02,  -2.25664839e-02,   1.31392722e-02],\n",
       "       [  5.06988752e+00,  -9.16689242e-01,  -3.12786994e-01, ...,\n",
       "          1.58592073e-02,   1.03319224e-02,   1.88509523e-02],\n",
       "       ..., \n",
       "       [ -1.50129216e+00,  -2.69962329e-01,  -6.51648241e-01, ...,\n",
       "          2.52629976e-03,  -7.90860469e-03,   2.05114328e-02],\n",
       "       [  4.84465912e+00,   1.74428060e+00,  -1.71259699e+00, ...,\n",
       "         -6.46151590e-03,  -1.57610759e-02,  -1.83989845e-02],\n",
       "       [  2.28658427e+00,   1.55628717e+00,  -1.44310769e+00, ...,\n",
       "         -4.18134808e-03,   1.21494555e-02,  -2.44082103e-03]])"
      ]
     },
     "execution_count": 16,
     "metadata": {},
     "output_type": "execute_result"
    }
   ],
   "source": [
    "from sklearn.decomposition import PCA\n",
    "pca = PCA()\n",
    "pca.fit_transform(Xn_train)"
   ]
  },
  {
   "cell_type": "code",
   "execution_count": 17,
   "metadata": {
    "collapsed": true
   },
   "outputs": [],
   "source": [
    "explained_variance = pca.explained_variance_ratio_"
   ]
  },
  {
   "cell_type": "code",
   "execution_count": 19,
   "metadata": {
    "collapsed": false
   },
   "outputs": [],
   "source": [
    "%matplotlib inline"
   ]
  },
  {
   "cell_type": "code",
   "execution_count": 20,
   "metadata": {
    "collapsed": false,
    "scrolled": true
   },
   "outputs": [
    {
     "data": {
      "image/png": "[encoded data removed]",
      "text/plain": [
       "<matplotlib.figure.Figure at 0x1e10f30e7f0>"
      ]
     },
     "metadata": {},
     "output_type": "display_data"
    }
   ],
   "source": [
    "plt.plot(range(145),explained_variance)\n",
    "plt.xlabel(\"Band number in transformed space\")\n",
    "plt.ylabel(\"Variance\")\n",
    "plt.show()"
   ]
  },
  {
   "cell_type": "raw",
   "metadata": {},
   "source": [
    "So we chose value of n_components as 3 based on the plot¶"
   ]
  },
  {
   "cell_type": "code",
   "execution_count": 21,
   "metadata": {
    "collapsed": false
   },
   "outputs": [
    {
     "data": {
      "text/plain": [
       "array([[ 15.2819211 ,   0.6185771 ,  -0.62439306],\n",
       "       [ -0.78759022,   2.60233615,  -1.31290319],\n",
       "       [  5.06988752,  -0.91668924,  -0.31278699],\n",
       "       ..., \n",
       "       [ -1.50129216,  -0.26996233,  -0.65164824],\n",
       "       [  4.84465912,   1.7442806 ,  -1.71259699],\n",
       "       [  2.28658427,   1.55628717,  -1.44310769]])"
      ]
     },
     "execution_count": 21,
     "metadata": {},
     "output_type": "execute_result"
    }
   ],
   "source": [
    "pca = PCA(n_components=3)\n",
    "pca.fit_transform(Xn_train)"
   ]
  },
  {
   "cell_type": "code",
   "execution_count": 26,
   "metadata": {
    "collapsed": false
   },
   "outputs": [],
   "source": [
    "Xpc_train = pca.transform(Xn_train)\n",
    "Xpc_test = pca.transform(Xn_test)"
   ]
  },
  {
   "cell_type": "markdown",
   "metadata": {},
   "source": [
    "# Grid Search to find best set of parameters using all bands: OVR"
   ]
  },
  {
   "cell_type": "code",
   "execution_count": 27,
   "metadata": {
    "collapsed": false
   },
   "outputs": [
    {
     "name": "stdout",
     "output_type": "stream",
     "text": [
      "Best parameters set found:\n",
      "\n",
      "{'C': 1000, 'gamma': 0.001, 'kernel': 'rbf'}\n",
      "\n",
      "Grid scores on development set:\n",
      "\n",
      "0.836 (+/-0.044) for {'C': 1, 'gamma': 0.001, 'kernel': 'rbf'}\n",
      "0.472 (+/-0.025) for {'C': 1, 'gamma': 0.0001, 'kernel': 'rbf'}\n",
      "0.897 (+/-0.031) for {'C': 10, 'gamma': 0.001, 'kernel': 'rbf'}\n",
      "0.836 (+/-0.044) for {'C': 10, 'gamma': 0.0001, 'kernel': 'rbf'}\n",
      "0.949 (+/-0.013) for {'C': 100, 'gamma': 0.001, 'kernel': 'rbf'}\n",
      "0.898 (+/-0.033) for {'C': 100, 'gamma': 0.0001, 'kernel': 'rbf'}\n",
      "0.968 (+/-0.012) for {'C': 1000, 'gamma': 0.001, 'kernel': 'rbf'}\n",
      "0.945 (+/-0.018) for {'C': 1000, 'gamma': 0.0001, 'kernel': 'rbf'}\n",
      "0.963 (+/-0.019) for {'C': 1, 'kernel': 'linear'}\n",
      "0.961 (+/-0.013) for {'C': 10, 'kernel': 'linear'}\n",
      "0.961 (+/-0.013) for {'C': 100, 'kernel': 'linear'}\n",
      "0.961 (+/-0.013) for {'C': 1000, 'kernel': 'linear'}\n"
     ]
    }
   ],
   "source": [
    "from sklearn.model_selection import GridSearchCV\n",
    "\n",
    "tuned_parameters = [{'kernel': ['rbf'], 'gamma': [1e-3, 1e-4],\n",
    "                     'C': [1, 10, 100, 1000]},\n",
    "                    {'kernel': ['linear'], 'C': [1, 10, 100, 1000]}]\n",
    "svm=SVC()\n",
    "#scores = cross_val_score(svm, X_pc3, y, cv=5)\n",
    "clf = GridSearchCV(svm, tuned_parameters, cv=5,)\n",
    "clf.fit(Xn_train, y_train)\n",
    "\n",
    "print(\"Best parameters set found:\")\n",
    "print()\n",
    "print(clf.best_params_)\n",
    "print()\n",
    "print(\"Grid scores on development set:\")\n",
    "print()\n",
    "means = clf.cv_results_['mean_test_score']\n",
    "stds = clf.cv_results_['std_test_score']\n",
    "for mean, std, params in zip(means, stds, clf.cv_results_['params']):\n",
    "        print(\"%0.3f (+/-%0.03f) for %r\"\n",
    "              % (mean, std * 2, params))"
   ]
  },
  {
   "cell_type": "code",
   "execution_count": 28,
   "metadata": {
    "collapsed": true
   },
   "outputs": [],
   "source": [
    "C=clf.best_params_['C']\n",
    "if(clf.best_params_['kernel']=='rbf'):\n",
    "    gamma=clf.best_params_['gamma']\n",
    "    svm=SVC(kernel='rbf',C=C,gamma=gamma)\n",
    "else:\n",
    "    svm=SVC(kernel='linear',C=C)"
   ]
  },
  {
   "cell_type": "code",
   "execution_count": 29,
   "metadata": {
    "collapsed": false
   },
   "outputs": [
    {
     "name": "stdout",
     "output_type": "stream",
     "text": [
      "Accuracy: 0.97\n",
      "Kappa coefficient: 0.97\n",
      "[[86  0  0  0  0  0  0  0  0  0  0  0  0  0]\n",
      " [ 0 34  0  0  0  0  0  0  0  0  0  0  0  0]\n",
      " [ 0  0 87  0  0  0  0  1  0  1  0  0  0  0]\n",
      " [ 0  0  0 69  0  0  0  0  0  0  0  0  0  0]\n",
      " [ 0  0  0  1 75  8  0  0  0  0  0  0  0  0]\n",
      " [ 0  0  0  0  1 87  0  0  3  0  0  0  0  0]\n",
      " [ 0  0  0  0  0  0 83  0  0  0  0  0  0  0]\n",
      " [ 0  0  0  0  0  0  0 68  0  0  0  0  0  0]\n",
      " [ 0  0  0  0  0  1  0  0 93  0  0  0  0  0]\n",
      " [ 0  0  0  0  0  0  0  0  0 85  3  0  0  0]\n",
      " [ 0  0  0  0  0  0  0  1  0  1 96  0  0  0]\n",
      " [ 0  0  0  0  0  0  0  0  0  0  0 52  2  0]\n",
      " [ 0  0  0  0  0  1  0  0  1  0  0  2 91  0]\n",
      " [ 0  0  0  0  0  0  0  0  0  0  0  0  0 39]]\n",
      "--- 0.34293413162231445 seconds ---\n"
     ]
    }
   ],
   "source": [
    "start_time = time.time()\n",
    "svm.fit(Xn_train,y_train)\n",
    "y_pred=svm.predict(Xn_test)\n",
    "acc=accuracy_score(y_test, y_pred)\n",
    "print(\"Accuracy: %0.2f\" % acc)\n",
    "kappa_score = cohen_kappa_score(y_test,y_pred)\n",
    "print(\"Kappa coefficient: %0.2f\" % kappa_score)\n",
    "print(confusion_matrix(y_test,y_pred))\n",
    "print(\"--- %s seconds ---\" % (time.time() - start_time))"
   ]
  },
  {
   "cell_type": "markdown",
   "metadata": {},
   "source": [
    "# Grid Search to find best set of parameters using PCs: OVR"
   ]
  },
  {
   "cell_type": "code",
   "execution_count": 30,
   "metadata": {
    "collapsed": false
   },
   "outputs": [
    {
     "name": "stdout",
     "output_type": "stream",
     "text": [
      "Best parameters set found:\n",
      "\n",
      "{'C': 1000, 'gamma': 0.001, 'kernel': 'rbf'}\n",
      "\n",
      "Grid scores on development set:\n",
      "\n",
      "0.777 (+/-0.041) for {'C': 1, 'gamma': 0.001, 'kernel': 'rbf'}\n",
      "0.452 (+/-0.035) for {'C': 1, 'gamma': 0.0001, 'kernel': 'rbf'}\n",
      "0.827 (+/-0.055) for {'C': 10, 'gamma': 0.001, 'kernel': 'rbf'}\n",
      "0.774 (+/-0.040) for {'C': 10, 'gamma': 0.0001, 'kernel': 'rbf'}\n",
      "0.843 (+/-0.033) for {'C': 100, 'gamma': 0.001, 'kernel': 'rbf'}\n",
      "0.827 (+/-0.052) for {'C': 100, 'gamma': 0.0001, 'kernel': 'rbf'}\n",
      "0.860 (+/-0.029) for {'C': 1000, 'gamma': 0.001, 'kernel': 'rbf'}\n",
      "0.835 (+/-0.028) for {'C': 1000, 'gamma': 0.0001, 'kernel': 'rbf'}\n",
      "0.847 (+/-0.026) for {'C': 1, 'kernel': 'linear'}\n",
      "0.847 (+/-0.025) for {'C': 10, 'kernel': 'linear'}\n",
      "0.846 (+/-0.027) for {'C': 100, 'kernel': 'linear'}\n",
      "0.846 (+/-0.029) for {'C': 1000, 'kernel': 'linear'}\n"
     ]
    }
   ],
   "source": [
    "from sklearn.model_selection import GridSearchCV\n",
    "\n",
    "tuned_parameters = [{'kernel': ['rbf'], 'gamma': [1e-3, 1e-4],\n",
    "                     'C': [1, 10, 100, 1000]},\n",
    "                    {'kernel': ['linear'], 'C': [1, 10, 100, 1000]}]\n",
    "svm=SVC()\n",
    "#scores = cross_val_score(svm, X_pc3, y, cv=5)\n",
    "clf = GridSearchCV(svm, tuned_parameters, cv=5,)\n",
    "clf.fit(Xpc_train, y_train)\n",
    "\n",
    "print(\"Best parameters set found:\")\n",
    "print()\n",
    "print(clf.best_params_)\n",
    "print()\n",
    "print(\"Grid scores on development set:\")\n",
    "print()\n",
    "means = clf.cv_results_['mean_test_score']\n",
    "stds = clf.cv_results_['std_test_score']\n",
    "for mean, std, params in zip(means, stds, clf.cv_results_['params']):\n",
    "        print(\"%0.3f (+/-%0.03f) for %r\"\n",
    "              % (mean, std * 2, params))"
   ]
  },
  {
   "cell_type": "code",
   "execution_count": null,
   "metadata": {
    "collapsed": true
   },
   "outputs": [],
   "source": [
    "C=clf.best_params_['C']\n",
    "if(clf.best_params_['kernel']=='rbf'):\n",
    "    gamma=clf.best_params_['gamma']\n",
    "    svm=SVC(kernel='rbf',C=C,gamma=gamma)\n",
    "else:\n",
    "    svm=SVC(kernel='linear',C=C)"
   ]
  },
  {
   "cell_type": "code",
   "execution_count": 31,
   "metadata": {
    "collapsed": false
   },
   "outputs": [
    {
     "name": "stdout",
     "output_type": "stream",
     "text": [
      "Accuracy: 0.86\n",
      "Kappa coefficient: 0.85\n",
      "[[86  0  0  0  0  0  0  0  0  0  0  0  0  0]\n",
      " [ 0 34  0  0  0  0  0  0  0  0  0  0  0  0]\n",
      " [ 0  0 83  0  0  0  0  0  1  4  0  0  1  0]\n",
      " [ 0  0  1 65  0  1  0  0  1  0  0  0  1  0]\n",
      " [ 0  3  0  2 61 17  0  0  0  0  0  1  0  0]\n",
      " [ 0  0  0  2 11 65  0  0 13  0  0  0  0  0]\n",
      " [ 0  0  0  0  0  0 83  0  0  0  0  0  0  0]\n",
      " [ 0  0  0  0  0  0  0 57  0  2  0  6  3  0]\n",
      " [ 0  0  1  4  0  6  0  0 75  0  0  0  8  0]\n",
      " [ 0  0 12  0  0  0  0  3  0 63  6  0  4  0]\n",
      " [ 0  0  0  0  0  0  0  0  0  3 95  0  0  0]\n",
      " [ 0  0  0  0  0  0  0  4  0  0  0 49  1  0]\n",
      " [ 0  0  1  2  0  0  0  7  1  4  0  2 78  0]\n",
      " [ 0  0  0  0  0  0  6  0  0  0  0  0  0 33]]\n",
      "--- 0.25267457962036133 seconds ---\n"
     ]
    }
   ],
   "source": [
    "start_time = time.time()\n",
    "svm.fit(Xpc_train,y_train)\n",
    "ypc_pred=svm.predict(Xpc_test)\n",
    "acc=accuracy_score(y_test, ypc_pred)\n",
    "print(\"Accuracy: %0.2f\" % acc)\n",
    "kappa_score = cohen_kappa_score(y_test,ypc_pred)\n",
    "print(\"Kappa coefficient: %0.2f\" % kappa_score)\n",
    "print(confusion_matrix(y_test,ypc_pred))\n",
    "print(\"--- %s seconds ---\" % (time.time() - start_time))"
   ]
  },
  {
   "cell_type": "markdown",
   "metadata": {},
   "source": [
    "# Grid Search to find best set of parameters using all bands: OVO"
   ]
  },
  {
   "cell_type": "code",
   "execution_count": 32,
   "metadata": {
    "collapsed": false
   },
   "outputs": [
    {
     "name": "stdout",
     "output_type": "stream",
     "text": [
      "Best parameters set found:\n",
      "\n",
      "{'C': 1000, 'gamma': 0.001, 'kernel': 'rbf'}\n",
      "\n",
      "Grid scores on development set:\n",
      "\n",
      "0.836 (+/-0.044) for {'C': 1, 'gamma': 0.001, 'kernel': 'rbf'}\n",
      "0.472 (+/-0.025) for {'C': 1, 'gamma': 0.0001, 'kernel': 'rbf'}\n",
      "0.897 (+/-0.031) for {'C': 10, 'gamma': 0.001, 'kernel': 'rbf'}\n",
      "0.836 (+/-0.044) for {'C': 10, 'gamma': 0.0001, 'kernel': 'rbf'}\n",
      "0.949 (+/-0.013) for {'C': 100, 'gamma': 0.001, 'kernel': 'rbf'}\n",
      "0.898 (+/-0.033) for {'C': 100, 'gamma': 0.0001, 'kernel': 'rbf'}\n",
      "0.968 (+/-0.012) for {'C': 1000, 'gamma': 0.001, 'kernel': 'rbf'}\n",
      "0.945 (+/-0.018) for {'C': 1000, 'gamma': 0.0001, 'kernel': 'rbf'}\n",
      "0.963 (+/-0.019) for {'C': 1, 'kernel': 'linear'}\n",
      "0.961 (+/-0.013) for {'C': 10, 'kernel': 'linear'}\n",
      "0.961 (+/-0.013) for {'C': 100, 'kernel': 'linear'}\n",
      "0.961 (+/-0.013) for {'C': 1000, 'kernel': 'linear'}\n"
     ]
    }
   ],
   "source": [
    "from sklearn.model_selection import GridSearchCV\n",
    "\n",
    "tuned_parameters = [{'kernel': ['rbf'], 'gamma': [1e-3, 1e-4],\n",
    "                     'C': [1, 10, 100, 1000]},\n",
    "                    {'kernel': ['linear'], 'C': [1, 10, 100, 1000]}]\n",
    "svm=SVC(decision_function_shape='ovo')\n",
    "#scores = cross_val_score(svm, X_pc3, y, cv=5)\n",
    "clf = GridSearchCV(svm, tuned_parameters, cv=5,)\n",
    "clf.fit(Xn_train, y_train)\n",
    "\n",
    "print(\"Best parameters set found:\")\n",
    "print()\n",
    "print(clf.best_params_)\n",
    "print()\n",
    "print(\"Grid scores on development set:\")\n",
    "print()\n",
    "means = clf.cv_results_['mean_test_score']\n",
    "stds = clf.cv_results_['std_test_score']\n",
    "for mean, std, params in zip(means, stds, clf.cv_results_['params']):\n",
    "        print(\"%0.3f (+/-%0.03f) for %r\"\n",
    "              % (mean, std * 2, params))"
   ]
  },
  {
   "cell_type": "code",
   "execution_count": 35,
   "metadata": {
    "collapsed": true
   },
   "outputs": [],
   "source": [
    "C=clf.best_params_['C']\n",
    "if(clf.best_params_['kernel']=='rbf'):\n",
    "    gamma=clf.best_params_['gamma']\n",
    "    svm=SVC(kernel='rbf',C=C,gamma=gamma,decision_function_shape='ovo')\n",
    "else:\n",
    "    svm=SVC(kernel='linear',C=C,decision_function_shape='ovo')"
   ]
  },
  {
   "cell_type": "code",
   "execution_count": 37,
   "metadata": {
    "collapsed": false
   },
   "outputs": [
    {
     "name": "stdout",
     "output_type": "stream",
     "text": [
      "Accuracy: 0.97\n",
      "Kappa coefficient: 0.97\n",
      "[[86  0  0  0  0  0  0  0  0  0  0  0  0  0]\n",
      " [ 0 34  0  0  0  0  0  0  0  0  0  0  0  0]\n",
      " [ 0  0 87  0  0  0  0  1  0  1  0  0  0  0]\n",
      " [ 0  0  0 69  0  0  0  0  0  0  0  0  0  0]\n",
      " [ 0  0  0  1 75  8  0  0  0  0  0  0  0  0]\n",
      " [ 0  0  0  0  1 87  0  0  3  0  0  0  0  0]\n",
      " [ 0  0  0  0  0  0 83  0  0  0  0  0  0  0]\n",
      " [ 0  0  0  0  0  0  0 68  0  0  0  0  0  0]\n",
      " [ 0  0  0  0  0  1  0  0 93  0  0  0  0  0]\n",
      " [ 0  0  0  0  0  0  0  0  0 85  3  0  0  0]\n",
      " [ 0  0  0  0  0  0  0  1  0  1 96  0  0  0]\n",
      " [ 0  0  0  0  0  0  0  0  0  0  0 52  2  0]\n",
      " [ 0  0  0  0  0  1  0  0  1  0  0  2 91  0]\n",
      " [ 0  0  0  0  0  0  0  0  0  0  0  0  0 39]]\n",
      "--- 0.45154905319213867 seconds ---\n"
     ]
    }
   ],
   "source": [
    "start_time = time.time()\n",
    "svm.fit(Xn_train,y_train)\n",
    "y_pred=svm.predict(Xn_test)\n",
    "acc=accuracy_score(y_test, y_pred)\n",
    "print(\"Accuracy: %0.2f\" % acc)\n",
    "kappa_score = cohen_kappa_score(y_test,y_pred)\n",
    "print(\"Kappa coefficient: %0.2f\" % kappa_score)\n",
    "print(confusion_matrix(y_test,y_pred))\n",
    "print(\"--- %s seconds ---\" % (time.time() - start_time))"
   ]
  },
  {
   "cell_type": "markdown",
   "metadata": {},
   "source": [
    "# Grid Search to find best set of parameters using PCs: OVO"
   ]
  },
  {
   "cell_type": "code",
   "execution_count": 38,
   "metadata": {
    "collapsed": false
   },
   "outputs": [
    {
     "name": "stdout",
     "output_type": "stream",
     "text": [
      "Best parameters set found:\n",
      "\n",
      "{'C': 1000, 'gamma': 0.001, 'kernel': 'rbf'}\n",
      "\n",
      "Grid scores on development set:\n",
      "\n",
      "0.777 (+/-0.041) for {'C': 1, 'gamma': 0.001, 'kernel': 'rbf'}\n",
      "0.452 (+/-0.035) for {'C': 1, 'gamma': 0.0001, 'kernel': 'rbf'}\n",
      "0.827 (+/-0.055) for {'C': 10, 'gamma': 0.001, 'kernel': 'rbf'}\n",
      "0.774 (+/-0.040) for {'C': 10, 'gamma': 0.0001, 'kernel': 'rbf'}\n",
      "0.843 (+/-0.033) for {'C': 100, 'gamma': 0.001, 'kernel': 'rbf'}\n",
      "0.827 (+/-0.052) for {'C': 100, 'gamma': 0.0001, 'kernel': 'rbf'}\n",
      "0.860 (+/-0.029) for {'C': 1000, 'gamma': 0.001, 'kernel': 'rbf'}\n",
      "0.835 (+/-0.028) for {'C': 1000, 'gamma': 0.0001, 'kernel': 'rbf'}\n",
      "0.847 (+/-0.026) for {'C': 1, 'kernel': 'linear'}\n",
      "0.847 (+/-0.025) for {'C': 10, 'kernel': 'linear'}\n",
      "0.846 (+/-0.027) for {'C': 100, 'kernel': 'linear'}\n",
      "0.846 (+/-0.029) for {'C': 1000, 'kernel': 'linear'}\n"
     ]
    }
   ],
   "source": [
    "from sklearn.model_selection import GridSearchCV\n",
    "\n",
    "tuned_parameters = [{'kernel': ['rbf'], 'gamma': [1e-3, 1e-4],\n",
    "                     'C': [1, 10, 100, 1000]},\n",
    "                    {'kernel': ['linear'], 'C': [1, 10, 100, 1000]}]\n",
    "svm=SVC(decision_function_shape='ovo')\n",
    "#scores = cross_val_score(svm, X_pc3, y, cv=5)\n",
    "clf = GridSearchCV(svm, tuned_parameters, cv=5,)\n",
    "clf.fit(Xpc_train, y_train)\n",
    "\n",
    "print(\"Best parameters set found:\")\n",
    "print()\n",
    "print(clf.best_params_)\n",
    "print()\n",
    "print(\"Grid scores on development set:\")\n",
    "print()\n",
    "means = clf.cv_results_['mean_test_score']\n",
    "stds = clf.cv_results_['std_test_score']\n",
    "for mean, std, params in zip(means, stds, clf.cv_results_['params']):\n",
    "        print(\"%0.3f (+/-%0.03f) for %r\"\n",
    "              % (mean, std * 2, params))"
   ]
  },
  {
   "cell_type": "code",
   "execution_count": 39,
   "metadata": {
    "collapsed": true
   },
   "outputs": [],
   "source": [
    "C=clf.best_params_['C']\n",
    "if(clf.best_params_['kernel']=='rbf'):\n",
    "    gamma=clf.best_params_['gamma']\n",
    "    svm=SVC(kernel='rbf',C=C,gamma=gamma,decision_function_shape='ovo')\n",
    "else:\n",
    "    svm=SVC(kernel='linear',C=C,decision_function_shape='ovo')"
   ]
  },
  {
   "cell_type": "code",
   "execution_count": 40,
   "metadata": {
    "collapsed": false
   },
   "outputs": [
    {
     "name": "stdout",
     "output_type": "stream",
     "text": [
      "Accuracy: 0.87\n",
      "Kappa coefficient: 0.86\n",
      "[[86  0  0  0  0  0  0  0  0  0  0  0  0  0]\n",
      " [ 0 34  0  0  0  0  0  0  0  0  0  0  0  0]\n",
      " [ 0  0 83  1  0  0  0  0  1  3  0  0  1  0]\n",
      " [ 0  0  1 64  1  1  0  0  2  0  0  0  0  0]\n",
      " [ 0  2  0  2 64 14  0  1  1  0  0  0  0  0]\n",
      " [ 0  0  0  3  8 64  0  0 16  0  0  0  0  0]\n",
      " [ 0  0  0  0  0  0 83  0  0  0  0  0  0  0]\n",
      " [ 0  0  0  0  0  0  0 52  0  4  0 10  2  0]\n",
      " [ 0  0  1  4  0  5  0  0 76  0  0  0  8  0]\n",
      " [ 0  0 12  0  0  0  0  3  0 64  6  0  3  0]\n",
      " [ 0  0  0  0  0  0  0  0  0  5 93  0  0  0]\n",
      " [ 0  0  0  0  0  0  0  3  0  0  0 50  1  0]\n",
      " [ 0  0  0  2  0  0  0  7  2  3  0  2 79  0]\n",
      " [ 0  0  0  0  0  0  0  0  0  0  1  0  0 38]]\n",
      "--- 0.21994590759277344 seconds ---\n"
     ]
    }
   ],
   "source": [
    "start_time = time.time()\n",
    "svm.fit(Xpc_train,y_train)\n",
    "ypc_pred=svm.predict(Xpc_test)\n",
    "acc=accuracy_score(y_test, ypc_pred)\n",
    "print(\"Accuracy: %0.2f\" % acc)\n",
    "kappa_score = cohen_kappa_score(y_test,ypc_pred)\n",
    "print(\"Kappa coefficient: %0.2f\" % kappa_score)\n",
    "print(confusion_matrix(y_test,ypc_pred))\n",
    "print(\"--- %s seconds ---\" % (time.time() - start_time))"
   ]
  },
  {
   "cell_type": "code",
   "execution_count": null,
   "metadata": {
    "collapsed": true
   },
   "outputs": [],
   "source": []
  }
 ],
 "metadata": {
  "kernelspec": {
   "display_name": "Python 3",
   "language": "python",
   "name": "python3"
  },
  "language_info": {
   "codemirror_mode": {
    "name": "ipython",
    "version": 3
   },
   "file_extension": ".py",
   "mimetype": "text/x-python",
   "name": "python",
   "nbconvert_exporter": "python",
   "pygments_lexer": "ipython3",
   "version": "3.6.2"
  }
 },
 "nbformat": 4,
 "nbformat_minor": 2
}
