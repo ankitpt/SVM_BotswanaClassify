{
 "cells": [
  {
   "cell_type": "code",
   "execution_count": 28,
   "metadata": {
    "collapsed": true
   },
   "outputs": [],
   "source": [
    "from dataset import Dataset\n",
    "import time\n",
    "import scipy.io as scio\n",
    "from matplotlib import pyplot as plt\n",
    "import numpy as np\n",
    "import pandas as pd\n",
    "import numpy as np\n",
    "from sklearn.model_selection import train_test_split  \n",
    "from sklearn.svm import SVC  \n",
    "from sklearn.metrics import classification_report, confusion_matrix \n",
    "from sklearn.model_selection import cross_val_score, cross_val_predict\n",
    "from sklearn import metrics\n",
    "from sklearn.metrics.classification import cohen_kappa_score\n",
    "from sklearn.metrics import accuracy_score"
   ]
  },
  {
   "cell_type": "code",
   "execution_count": 29,
   "metadata": {
    "collapsed": true
   },
   "outputs": [],
   "source": [
    "def get_wts(arr):\n",
    "    return norm.cdf(arr,np.mean(arr),np.std(arr))\n",
    "\n",
    "bots=Dataset(\"Botswana\",\".mat\")\n",
    "bots.load()\n",
    "hypd=bots.data\n",
    "\n",
    "\n",
    "shp=np.shape(hypd)\n",
    "row=shp[0]\n",
    "col=shp[1]\n",
    "bands=shp[2]\n",
    "    \n",
    "hypd=hypd.reshape(row*col,bands)\n",
    "    \n",
    "bots_gt=Dataset('Botswana_gt','.mat')\n",
    "bots_gt.load()\n",
    "y=bots_gt.data.reshape(row*col,1)\n",
    "ind=np.where(y[:,0]!=0)\n",
    "X_hypd=hypd[ind]\n",
    "y = y[y!=0]"
   ]
  },
  {
   "cell_type": "code",
   "execution_count": 30,
   "metadata": {
    "collapsed": true
   },
   "outputs": [],
   "source": [
    "df = pd.DataFrame(X_hypd)\n",
    "\n",
    "df2=pd.DataFrame()\n",
    "\n",
    "band=dict()\n",
    "band['Blue']=np.linspace(490,530,5)\n",
    "band['Green']=np.linspace(530,590,7)\n",
    "band['Red']=np.linspace(630,680,6)\n",
    "band['NIR']=np.linspace(850,880,4)\n",
    "\n",
    "\n",
    "\n",
    "wblue=np.ediff1d(get_wts(band['Blue']))\n",
    "wgreen=np.ediff1d(get_wts(band['Green']))\n",
    "wred=np.ediff1d(get_wts(band['Red']))\n",
    "wnir=np.ediff1d(get_wts(band['NIR']))\n",
    "\n",
    "\n",
    "df2['Blue'] = (df.iloc[:, 0:4].multiply(wblue, axis=1).sum(axis=1))/np.sum(wblue)\n",
    "df2['Green'] = (df.iloc[:, 4:10].multiply(wgreen, axis=1).sum(axis=1))/np.sum(wgreen)\n",
    "df2['Red'] = (df.iloc[:, 14:19].multiply(wred, axis=1).sum(axis=1))/np.sum(wred)\n",
    "df2['NIR'] = (df.iloc[:, 36:39].multiply(wnir, axis=1).sum(axis=1))/np.sum(wnir)"
   ]
  },
  {
   "cell_type": "code",
   "execution_count": 45,
   "metadata": {
    "collapsed": false
   },
   "outputs": [],
   "source": [
    "X_train, X_test, y_train, y_test = train_test_split(df2, y, test_size=0.33)\n",
    "\n",
    "from sklearn.preprocessing import StandardScaler\n",
    "sc = StandardScaler()  \n",
    "sc.fit_transform(X_train)\n",
    "Xn_train = sc.transform(X_train)\n",
    "Xn_test = sc.transform(X_test)"
   ]
  },
  {
   "cell_type": "markdown",
   "metadata": {},
   "source": [
    "# Grid Search to find best set of parameters: OVR"
   ]
  },
  {
   "cell_type": "code",
   "execution_count": 46,
   "metadata": {
    "collapsed": false
   },
   "outputs": [
    {
     "name": "stdout",
     "output_type": "stream",
     "text": [
      "Best parameters set found:\n",
      "\n",
      "{'C': 100, 'kernel': 'linear'}\n",
      "\n",
      "Grid scores on development set:\n",
      "\n",
      "0.299 (+/-0.014) for {'C': 1, 'gamma': 0.001, 'kernel': 'rbf'}\n",
      "0.097 (+/-0.002) for {'C': 1, 'gamma': 0.0001, 'kernel': 'rbf'}\n",
      "0.558 (+/-0.028) for {'C': 10, 'gamma': 0.001, 'kernel': 'rbf'}\n",
      "0.297 (+/-0.016) for {'C': 10, 'gamma': 0.0001, 'kernel': 'rbf'}\n",
      "0.785 (+/-0.027) for {'C': 100, 'gamma': 0.001, 'kernel': 'rbf'}\n",
      "0.558 (+/-0.028) for {'C': 100, 'gamma': 0.0001, 'kernel': 'rbf'}\n",
      "0.847 (+/-0.019) for {'C': 1000, 'gamma': 0.001, 'kernel': 'rbf'}\n",
      "0.785 (+/-0.027) for {'C': 1000, 'gamma': 0.0001, 'kernel': 'rbf'}\n",
      "0.830 (+/-0.014) for {'C': 1, 'kernel': 'linear'}\n",
      "0.858 (+/-0.012) for {'C': 10, 'kernel': 'linear'}\n",
      "0.860 (+/-0.017) for {'C': 100, 'kernel': 'linear'}\n",
      "0.860 (+/-0.019) for {'C': 1000, 'kernel': 'linear'}\n"
     ]
    }
   ],
   "source": [
    "from sklearn.model_selection import GridSearchCV\n",
    "\n",
    "tuned_parameters = [{'kernel': ['rbf'], 'gamma': [1e-3, 1e-4],\n",
    "                     'C': [1, 10, 100, 1000]},\n",
    "                    {'kernel': ['linear'], 'C': [1, 10, 100, 1000]}]\n",
    "svm=SVC()\n",
    "#scores = cross_val_score(svm, X_pc3, y, cv=5)\n",
    "clf = GridSearchCV(svm, tuned_parameters, cv=5,)\n",
    "clf.fit(Xn_train, y_train)\n",
    "\n",
    "print(\"Best parameters set found:\")\n",
    "print()\n",
    "print(clf.best_params_)\n",
    "print()\n",
    "print(\"Grid scores on development set:\")\n",
    "print()\n",
    "means = clf.cv_results_['mean_test_score']\n",
    "stds = clf.cv_results_['std_test_score']\n",
    "for mean, std, params in zip(means, stds, clf.cv_results_['params']):\n",
    "        print(\"%0.3f (+/-%0.03f) for %r\"\n",
    "              % (mean, std * 2, params))"
   ]
  },
  {
   "cell_type": "code",
   "execution_count": 48,
   "metadata": {
    "collapsed": false
   },
   "outputs": [],
   "source": [
    "C=clf.best_params_['C']\n",
    "if(clf.best_params_['kernel']=='rbf'):\n",
    "    gamma=clf.best_params_['gamma']\n",
    "    svm=SVC(kernel='rbf',C=C,gamma=gamma)\n",
    "else:\n",
    "    svm=SVC(kernel='linear',C=C)"
   ]
  },
  {
   "cell_type": "markdown",
   "metadata": {},
   "source": [
    "start_time = time.time()\n",
    "svm.fit(Xn_train,y_train)\n",
    "y_pred=svm.predict(Xn_test)\n",
    "acc=accuracy_score(y_test, y_pred)\n",
    "print(\"Accuracy: %0.2f\" % acc)\n",
    "kappa_score = cohen_kappa_score(y_test,y_pred)\n",
    "print(\"Kappa coefficient: %0.2f\" % kappa_score)\n",
    "print(confusion_matrix(y_test,y_pred))\n",
    "print(\"--- %s seconds ---\" % (time.time() - start_time))"
   ]
  },
  {
   "cell_type": "code",
   "execution_count": 35,
   "metadata": {
    "collapsed": false
   },
   "outputs": [
    {
     "name": "stdout",
     "output_type": "stream",
     "text": [
      "Best parameters set found:\n",
      "\n",
      "{'C': 100, 'kernel': 'linear'}\n",
      "\n",
      "Grid scores on development set:\n",
      "\n",
      "0.309 (+/-0.022) for {'C': 1, 'gamma': 0.001, 'kernel': 'rbf'}\n",
      "0.093 (+/-0.001) for {'C': 1, 'gamma': 0.0001, 'kernel': 'rbf'}\n",
      "0.555 (+/-0.008) for {'C': 10, 'gamma': 0.001, 'kernel': 'rbf'}\n",
      "0.310 (+/-0.023) for {'C': 10, 'gamma': 0.0001, 'kernel': 'rbf'}\n",
      "0.789 (+/-0.029) for {'C': 100, 'gamma': 0.001, 'kernel': 'rbf'}\n",
      "0.556 (+/-0.007) for {'C': 100, 'gamma': 0.0001, 'kernel': 'rbf'}\n",
      "0.847 (+/-0.043) for {'C': 1000, 'gamma': 0.001, 'kernel': 'rbf'}\n",
      "0.789 (+/-0.029) for {'C': 1000, 'gamma': 0.0001, 'kernel': 'rbf'}\n",
      "0.830 (+/-0.035) for {'C': 1, 'kernel': 'linear'}\n",
      "0.857 (+/-0.031) for {'C': 10, 'kernel': 'linear'}\n",
      "0.864 (+/-0.034) for {'C': 100, 'kernel': 'linear'}\n",
      "0.860 (+/-0.038) for {'C': 1000, 'kernel': 'linear'}\n"
     ]
    }
   ],
   "source": [
    "from sklearn.model_selection import GridSearchCV\n",
    "\n",
    "tuned_parameters = [{'kernel': ['rbf'], 'gamma': [1e-3, 1e-4],\n",
    "                     'C': [1, 10, 100, 1000]},\n",
    "                    {'kernel': ['linear'], 'C': [1, 10, 100, 1000]}]\n",
    "svm=SVC()\n",
    "#scores = cross_val_score(svm, X_pc3, y, cv=5)\n",
    "clf = GridSearchCV(svm, tuned_parameters, cv=5,)\n",
    "clf.fit(X_train, y_train)\n",
    "\n",
    "print(\"Best parameters set found:\")\n",
    "print()\n",
    "print(clf.best_params_)\n",
    "print()\n",
    "print(\"Grid scores on development set:\")\n",
    "print()\n",
    "means = clf.cv_results_['mean_test_score']\n",
    "stds = clf.cv_results_['std_test_score']\n",
    "for mean, std, params in zip(means, stds, clf.cv_results_['params']):\n",
    "        print(\"%0.3f (+/-%0.03f) for %r\"\n",
    "              % (mean, std * 2, params))"
   ]
  },
  {
   "cell_type": "code",
   "execution_count": 36,
   "metadata": {
    "collapsed": true
   },
   "outputs": [],
   "source": [
    "C=clf.best_params_['C']\n",
    "if(clf.best_params_['kernel']=='rbf'):\n",
    "    gamma=clf.best_params_['gamma']\n",
    "    svm=SVC(kernel='rbf',C=C,gamma=gamma)\n",
    "else:\n",
    "    svm=SVC(kernel='linear',C=C)"
   ]
  },
  {
   "cell_type": "code",
   "execution_count": 37,
   "metadata": {
    "collapsed": false
   },
   "outputs": [
    {
     "name": "stdout",
     "output_type": "stream",
     "text": [
      "Accuracy: 0.87\n",
      "Kappa coefficient: 0.86\n",
      "[[86  0  0  0  0  0  0  0  0  0  0  0  0  0]\n",
      " [ 0 35  0  0  2  0  0  0  0  0  0  0  0  0]\n",
      " [ 0  0 79  1  0  0  1  0  0  3  0  0  0  0]\n",
      " [ 0  0  5 66  0  0  0  0  0  0  0  0  0  0]\n",
      " [ 0  5  0  4 80  5  0  0  0  0  0  0  0  0]\n",
      " [ 0  4  0  0 14 47  0  0 28  0  0  0  0  0]\n",
      " [ 0  0  0  1  0  0 69  0  1  0  0  0  0  0]\n",
      " [ 0  0  0  0  0  0  0 69  0  0  4  0  0  0]\n",
      " [ 0  0  0  0  1 21  0  0 89  0  0  0  0  0]\n",
      " [ 0  0  0  0  0  0  0  0  0 49  7  0  2  0]\n",
      " [ 0  0  0  0  0  0  0  3  0 10 99  0  0  0]\n",
      " [ 0  0  0  0  0  0  0  0  0  0  0 59  4  0]\n",
      " [ 0  0  0  0  0  0  0  0  2  3  1  3 78  0]\n",
      " [ 0  0  0  0  0  0  0  0  0  0  0  0  0 32]]\n",
      "--- 0.1093282699584961 seconds ---\n"
     ]
    }
   ],
   "source": [
    "start_time = time.time()\n",
    "svm.fit(X_train,y_train)\n",
    "y_pred=svm.predict(X_test)\n",
    "acc=accuracy_score(y_test, y_pred)\n",
    "print(\"Accuracy: %0.2f\" % acc)\n",
    "kappa_score = cohen_kappa_score(y_test,y_pred)\n",
    "print(\"Kappa coefficient: %0.2f\" % kappa_score)\n",
    "print(confusion_matrix(y_test,y_pred))\n",
    "print(\"--- %s seconds ---\" % (time.time() - start_time))"
   ]
  },
  {
   "cell_type": "markdown",
   "metadata": {},
   "source": [
    "# Grid Search to find best set of parameters: OVO"
   ]
  },
  {
   "cell_type": "code",
   "execution_count": 49,
   "metadata": {
    "collapsed": false
   },
   "outputs": [
    {
     "name": "stdout",
     "output_type": "stream",
     "text": [
      "Best parameters set found:\n",
      "\n",
      "{'C': 100, 'kernel': 'linear'}\n",
      "\n",
      "Grid scores on development set:\n",
      "\n",
      "0.299 (+/-0.014) for {'C': 1, 'gamma': 0.001, 'kernel': 'rbf'}\n",
      "0.097 (+/-0.002) for {'C': 1, 'gamma': 0.0001, 'kernel': 'rbf'}\n",
      "0.558 (+/-0.028) for {'C': 10, 'gamma': 0.001, 'kernel': 'rbf'}\n",
      "0.297 (+/-0.016) for {'C': 10, 'gamma': 0.0001, 'kernel': 'rbf'}\n",
      "0.785 (+/-0.027) for {'C': 100, 'gamma': 0.001, 'kernel': 'rbf'}\n",
      "0.558 (+/-0.028) for {'C': 100, 'gamma': 0.0001, 'kernel': 'rbf'}\n",
      "0.847 (+/-0.019) for {'C': 1000, 'gamma': 0.001, 'kernel': 'rbf'}\n",
      "0.785 (+/-0.027) for {'C': 1000, 'gamma': 0.0001, 'kernel': 'rbf'}\n",
      "0.830 (+/-0.014) for {'C': 1, 'kernel': 'linear'}\n",
      "0.858 (+/-0.012) for {'C': 10, 'kernel': 'linear'}\n",
      "0.860 (+/-0.017) for {'C': 100, 'kernel': 'linear'}\n",
      "0.860 (+/-0.019) for {'C': 1000, 'kernel': 'linear'}\n"
     ]
    }
   ],
   "source": [
    "from sklearn.model_selection import GridSearchCV\n",
    "\n",
    "tuned_parameters = [{'kernel': ['rbf'], 'gamma': [1e-3, 1e-4],\n",
    "                     'C': [1, 10, 100, 1000]},\n",
    "                    {'kernel': ['linear'], 'C': [1, 10, 100, 1000]}]\n",
    "svm=SVC(decision_function_shape='ovo')\n",
    "#scores = cross_val_score(svm, X_pc3, y, cv=5)\n",
    "clf = GridSearchCV(svm, tuned_parameters, cv=5,)\n",
    "clf.fit(Xn_train, y_train)\n",
    "\n",
    "print(\"Best parameters set found:\")\n",
    "print()\n",
    "print(clf.best_params_)\n",
    "print()\n",
    "print(\"Grid scores on development set:\")\n",
    "print()\n",
    "means = clf.cv_results_['mean_test_score']\n",
    "stds = clf.cv_results_['std_test_score']\n",
    "for mean, std, params in zip(means, stds, clf.cv_results_['params']):\n",
    "        print(\"%0.3f (+/-%0.03f) for %r\"\n",
    "              % (mean, std * 2, params))"
   ]
  },
  {
   "cell_type": "code",
   "execution_count": 50,
   "metadata": {
    "collapsed": true
   },
   "outputs": [],
   "source": [
    "C=clf.best_params_['C']\n",
    "if(clf.best_params_['kernel']=='rbf'):\n",
    "    gamma=clf.best_params_['gamma']\n",
    "    svm=SVC(kernel='rbf',C=C,gamma=gamma,decision_function_shape='ovo')\n",
    "else:\n",
    "    svm=SVC(kernel='linear',C=C,decision_function_shape='ovo')"
   ]
  },
  {
   "cell_type": "code",
   "execution_count": 52,
   "metadata": {
    "collapsed": false
   },
   "outputs": [
    {
     "name": "stdout",
     "output_type": "stream",
     "text": [
      "Accuracy: 0.87\n",
      "Kappa coefficient: 0.86\n",
      "[[83  0  0  0  0  0  0  0  0  0  0  0  0  0]\n",
      " [ 0 23  0  0  2  0  0  0  0  0  0  0  0  0]\n",
      " [ 0  0 75  3  0  0  3  1  0  2  0  0  0  0]\n",
      " [ 0  0  4 64  5  0  0  0  0  1  0  0  0  0]\n",
      " [ 0  3  0  3 71  4  0  1  1  0  0  1  0  0]\n",
      " [ 0  2  0  0 10 47  0  0 23  0  0  0  0  0]\n",
      " [ 0  0  3  1  0  0 95  0  0  0  0  0  0  0]\n",
      " [ 0  0  0  0  0  0  0 58  0  0  4  0  0  0]\n",
      " [ 0  0  0  0  0 14  0  0 89  1  0  0  0  0]\n",
      " [ 0  0  0  0  0  0  0  2  1 74  9  0  1  0]\n",
      " [ 0  0  0  0  0  0  0  3  0  8 98  0  1  0]\n",
      " [ 0  0  0  0  0  0  0  0  0  0  0 51  4  0]\n",
      " [ 0  0  0  0  0  1  0  0  3  4  2  4 66  0]\n",
      " [ 0  0  0  0  0  0  0  0  0  0  0  0  0 43]]\n",
      "--- 0.11999058723449707 seconds ---\n"
     ]
    }
   ],
   "source": [
    "start_time = time.time()\n",
    "svm.fit(Xn_train,y_train)\n",
    "y_pred=svm.predict(Xn_test)\n",
    "acc=accuracy_score(y_test, y_pred)\n",
    "print(\"Accuracy: %0.2f\" % acc)\n",
    "kappa_score = cohen_kappa_score(y_test,y_pred)\n",
    "print(\"Kappa coefficient: %0.2f\" % kappa_score)\n",
    "print(confusion_matrix(y_test,y_pred))\n",
    "print(\"--- %s seconds ---\" % (time.time() - start_time))"
   ]
  },
  {
   "cell_type": "code",
   "execution_count": 53,
   "metadata": {
    "collapsed": false
   },
   "outputs": [
    {
     "data": {
      "text/plain": [
       "SVC(C=100, cache_size=200, class_weight=None, coef0=0.0,\n",
       "  decision_function_shape='ovo', degree=3, gamma='auto', kernel='linear',\n",
       "  max_iter=-1, probability=False, random_state=None, shrinking=True,\n",
       "  tol=0.001, verbose=False)"
      ]
     },
     "execution_count": 53,
     "metadata": {},
     "output_type": "execute_result"
    }
   ],
   "source": [
    "svm"
   ]
  },
  {
   "cell_type": "code",
   "execution_count": null,
   "metadata": {
    "collapsed": true
   },
   "outputs": [],
   "source": []
  }
 ],
 "metadata": {
  "kernelspec": {
   "display_name": "Python 3",
   "language": "python",
   "name": "python3"
  },
  "language_info": {
   "codemirror_mode": {
    "name": "ipython",
    "version": 3
   },
   "file_extension": ".py",
   "mimetype": "text/x-python",
   "name": "python",
   "nbconvert_exporter": "python",
   "pygments_lexer": "ipython3",
   "version": "3.6.2"
  }
 },
 "nbformat": 4,
 "nbformat_minor": 2
}
