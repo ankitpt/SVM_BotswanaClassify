{
 "cells": [
  {
   "cell_type": "markdown",
   "metadata": {
    "deletable": true,
    "editable": true
   },
   "source": [
    "# Importing necessary libraries"
   ]
  },
  {
   "cell_type": "code",
   "execution_count": 49,
   "metadata": {
    "collapsed": true,
    "deletable": true,
    "editable": true
   },
   "outputs": [],
   "source": [
    "import time\n",
    "\n",
    "import scipy.io as scio\n",
    "from matplotlib import pyplot as plt\n",
    "import numpy as np\n",
    "import pandas as pd\n",
    "import numpy as np\n",
    "from sklearn.model_selection import train_test_split  \n",
    "from sklearn.svm import SVC  \n",
    "from sklearn.metrics import classification_report, confusion_matrix \n",
    "from sklearn.model_selection import cross_val_score, cross_val_predict\n",
    "from sklearn import metrics\n",
    "from sklearn.metrics.classification import cohen_kappa_score\n",
    "from sklearn.metrics import accuracy_score"
   ]
  },
  {
   "cell_type": "code",
   "execution_count": 2,
   "metadata": {
    "collapsed": true,
    "deletable": true,
    "editable": true
   },
   "outputs": [],
   "source": [
    "class Dataset:\n",
    "    \n",
    "    def __init__(self,name,form):\n",
    "        \n",
    "        self.name=name\n",
    "        self.form=form\n",
    "        \n",
    "    def load(self):\n",
    "        \n",
    "        self.data_dict=scio.loadmat(self.name+self.form)\n",
    "        self.data=self.data_dict[self.name]"
   ]
  },
  {
   "cell_type": "markdown",
   "metadata": {
    "deletable": true,
    "editable": true
   },
   "source": [
    "# Designing input and output for training"
   ]
  },
  {
   "cell_type": "code",
   "execution_count": 3,
   "metadata": {
    "collapsed": true,
    "deletable": true,
    "editable": true
   },
   "outputs": [],
   "source": [
    "bots=Dataset('Botswana','.mat')\n",
    "bots.load()\n",
    "data=bots.data\n",
    "shp=np.shape(data)\n",
    "row=shp[0]\n",
    "col=shp[1]\n",
    "bands=shp[2]\n",
    "    \n",
    "X=data.reshape(row*col,bands)\n",
    "    \n",
    "#Obtaining data in desired form\n",
    "bots_gt=Dataset('Botswana_gt','.mat')\n",
    "bots_gt.load()\n",
    "y=bots_gt.data.reshape(row*col,1)\n",
    "ind=np.where(y[:,0]!=0)\n",
    "X=X[ind]\n",
    "y = y[y!=0]"
   ]
  },
  {
   "cell_type": "code",
   "execution_count": 4,
   "metadata": {
    "collapsed": false,
    "deletable": true,
    "editable": true
   },
   "outputs": [
    {
     "data": {
      "text/plain": [
       "array([[6181, 6266, 6142, ...,  245,  201,  187],\n",
       "       [6152, 6353, 6067, ...,  234,  210,  217],\n",
       "       [6087, 6192, 6049, ...,  249,  202,  199],\n",
       "       ..., \n",
       "       [4026, 3937, 3486, ...,   38,   35,   41],\n",
       "       [3911, 3892, 3599, ...,   32,   32,   42],\n",
       "       [3948, 4010, 3633, ...,   41,   44,   38]], dtype=uint16)"
      ]
     },
     "execution_count": 4,
     "metadata": {},
     "output_type": "execute_result"
    }
   ],
   "source": [
    "X"
   ]
  },
  {
   "cell_type": "markdown",
   "metadata": {
    "deletable": true,
    "editable": true
   },
   "source": [
    "# Normalizing Data before PCA"
   ]
  },
  {
   "cell_type": "code",
   "execution_count": 5,
   "metadata": {
    "collapsed": true,
    "deletable": true,
    "editable": true
   },
   "outputs": [],
   "source": [
    "from sklearn.preprocessing import StandardScaler"
   ]
  },
  {
   "cell_type": "code",
   "execution_count": 6,
   "metadata": {
    "collapsed": false,
    "deletable": true,
    "editable": true
   },
   "outputs": [
    {
     "name": "stderr",
     "output_type": "stream",
     "text": [
      "C:\\Users\\Ankit\\Anaconda2\\envs\\py36\\lib\\site-packages\\sklearn\\utils\\validation.py:444: DataConversionWarning: Data with input dtype uint16 was converted to float64 by StandardScaler.\n",
      "  warnings.warn(msg, DataConversionWarning)\n"
     ]
    }
   ],
   "source": [
    "sc = StandardScaler()  \n",
    "X_n = sc.fit_transform(X)   "
   ]
  },
  {
   "cell_type": "code",
   "execution_count": 7,
   "metadata": {
    "collapsed": false,
    "deletable": true,
    "editable": true
   },
   "outputs": [
    {
     "data": {
      "text/plain": [
       "array([[ 2.71488418,  2.85428226,  2.88614903, ...,  2.52353234,\n",
       "         2.43382925,  2.02528128],\n",
       "       [ 2.66614377,  2.99444218,  2.77214   , ...,  2.32515184,\n",
       "         2.630252  ,  2.66216671],\n",
       "       [ 2.55689802,  2.73506578,  2.74477783, ...,  2.5956707 ,\n",
       "         2.455654  ,  2.28003545],\n",
       "       ..., \n",
       "       [-0.90703261, -0.89781492, -1.15129095, ..., -1.20962799,\n",
       "        -1.18907933, -1.0742278 ],\n",
       "       [-1.10031355, -0.97031143, -0.97951733, ..., -1.31783553,\n",
       "        -1.25455358, -1.05299829],\n",
       "       [-1.03812751, -0.78020947, -0.92783324, ..., -1.15552422,\n",
       "        -0.99265658, -1.13791634]])"
      ]
     },
     "execution_count": 7,
     "metadata": {},
     "output_type": "execute_result"
    }
   ],
   "source": [
    "X_n"
   ]
  },
  {
   "cell_type": "markdown",
   "metadata": {
    "deletable": true,
    "editable": true
   },
   "source": [
    "# PCA"
   ]
  },
  {
   "cell_type": "code",
   "execution_count": 8,
   "metadata": {
    "collapsed": true,
    "deletable": true,
    "editable": true
   },
   "outputs": [],
   "source": [
    "from sklearn.decomposition import PCA\n",
    "\n",
    "pca = PCA()  \n",
    "X_pc = pca.fit_transform(X_n)  "
   ]
  },
  {
   "cell_type": "code",
   "execution_count": 9,
   "metadata": {
    "collapsed": false,
    "deletable": true,
    "editable": true
   },
   "outputs": [
    {
     "data": {
      "text/plain": [
       "array([[  2.74527441e+01,   2.25311214e+00,   3.19749276e+00, ...,\n",
       "          2.38478536e-02,  -1.50450499e-02,  -1.71323470e-02],\n",
       "       [  2.67699213e+01,   1.76436626e+00,   2.99523674e+00, ...,\n",
       "          2.70681871e-02,  -1.69806376e-02,  -1.26478443e-02],\n",
       "       [  2.69483129e+01,   2.30051067e+00,   2.06476884e+00, ...,\n",
       "          2.67804176e-02,  -1.89933625e-02,  -4.59663747e-03],\n",
       "       ..., \n",
       "       [ -1.01007022e+01,  -5.03347407e+00,  -1.51200114e-01, ...,\n",
       "         -3.12690207e-02,   9.96774387e-03,  -1.51067738e-02],\n",
       "       [ -1.17561743e+01,  -2.05725011e+00,  -1.66759821e-01, ...,\n",
       "         -2.34641281e-02,  -1.80067760e-02,  -1.19715578e-04],\n",
       "       [ -1.12492323e+01,  -2.53888576e+00,  -6.49691494e-02, ...,\n",
       "          1.65790474e-02,   2.08288358e-02,   2.59977707e-02]])"
      ]
     },
     "execution_count": 9,
     "metadata": {},
     "output_type": "execute_result"
    }
   ],
   "source": [
    "X_pc"
   ]
  },
  {
   "cell_type": "code",
   "execution_count": 10,
   "metadata": {
    "collapsed": true,
    "deletable": true,
    "editable": true
   },
   "outputs": [],
   "source": [
    "explained_variance = pca.explained_variance_ratio_  "
   ]
  },
  {
   "cell_type": "code",
   "execution_count": 11,
   "metadata": {
    "collapsed": true,
    "deletable": true,
    "editable": true
   },
   "outputs": [],
   "source": [
    "%matplotlib inline"
   ]
  },
  {
   "cell_type": "code",
   "execution_count": 12,
   "metadata": {
    "collapsed": false,
    "deletable": true,
    "editable": true
   },
   "outputs": [
    {
     "data": {
      "image/png": "[encoded data removed]",
      "text/plain": [
       "<matplotlib.figure.Figure at 0x1f9600e25f8>"
      ]
     },
     "metadata": {},
     "output_type": "display_data"
    }
   ],
   "source": [
    "plt.plot(range(145),explained_variance)\n",
    "plt.xlabel(\"Band number in transformed space\")\n",
    "plt.ylabel(\"Variance\")\n",
    "plt.show()"
   ]
  },
  {
   "cell_type": "markdown",
   "metadata": {
    "deletable": true,
    "editable": true
   },
   "source": [
    "## So we chose value of n_components as 3 based on the plot"
   ]
  },
  {
   "cell_type": "code",
   "execution_count": 13,
   "metadata": {
    "collapsed": false,
    "deletable": true,
    "editable": true
   },
   "outputs": [
    {
     "data": {
      "text/plain": [
       "(3248, 145)"
      ]
     },
     "execution_count": 13,
     "metadata": {},
     "output_type": "execute_result"
    }
   ],
   "source": [
    "np.shape(X_pc)"
   ]
  },
  {
   "cell_type": "code",
   "execution_count": 14,
   "metadata": {
    "collapsed": false,
    "deletable": true,
    "editable": true
   },
   "outputs": [
    {
     "data": {
      "text/plain": [
       "(3248, 3)"
      ]
     },
     "execution_count": 14,
     "metadata": {},
     "output_type": "execute_result"
    }
   ],
   "source": [
    "np.shape(X_pc[:, 0:3])"
   ]
  },
  {
   "cell_type": "code",
   "execution_count": 15,
   "metadata": {
    "collapsed": false,
    "deletable": true,
    "editable": true
   },
   "outputs": [
    {
     "data": {
      "text/plain": [
       "array([[ 27.45274409,   2.25311214,   3.19749276],\n",
       "       [ 26.76992132,   1.76436626,   2.99523674],\n",
       "       [ 26.9483129 ,   2.30051067,   2.06476884],\n",
       "       ..., \n",
       "       [-10.10070216,  -5.03347407,  -0.15120011],\n",
       "       [-11.75617431,  -2.05725011,  -0.16675982],\n",
       "       [-11.24923231,  -2.53888576,  -0.06496915]])"
      ]
     },
     "execution_count": 15,
     "metadata": {},
     "output_type": "execute_result"
    }
   ],
   "source": [
    "X_pc[:, 0:3]"
   ]
  },
  {
   "cell_type": "code",
   "execution_count": 16,
   "metadata": {
    "collapsed": true,
    "deletable": true,
    "editable": true
   },
   "outputs": [],
   "source": [
    "pca = PCA(n_components=3)  \n",
    "X_pc3 = pca.fit_transform(X_n) "
   ]
  },
  {
   "cell_type": "markdown",
   "metadata": {
    "deletable": true,
    "editable": true
   },
   "source": [
    "Principal Componenets extracted"
   ]
  },
  {
   "cell_type": "code",
   "execution_count": 17,
   "metadata": {
    "collapsed": false,
    "deletable": true,
    "editable": true
   },
   "outputs": [
    {
     "data": {
      "text/plain": [
       "array([[ 27.45274409,   2.25311214,   3.19749276],\n",
       "       [ 26.76992132,   1.76436626,   2.99523674],\n",
       "       [ 26.9483129 ,   2.30051067,   2.06476884],\n",
       "       ..., \n",
       "       [-10.10070216,  -5.03347407,  -0.15120011],\n",
       "       [-11.75617431,  -2.05725011,  -0.16675982],\n",
       "       [-11.24923231,  -2.53888576,  -0.06496915]])"
      ]
     },
     "execution_count": 17,
     "metadata": {},
     "output_type": "execute_result"
    }
   ],
   "source": [
    "X_pc3"
   ]
  },
  {
   "cell_type": "code",
   "execution_count": 54,
   "metadata": {
    "collapsed": true
   },
   "outputs": [],
   "source": [
    "X_train, X_test, y_train, y_test = train_test_split(X_n, y, test_size=0.33)\n",
    "Xpc3_train, Xpc3_test, ypc3_train, ypc3_test = train_test_split(X_pc3, y, test_size=0.33)"
   ]
  },
  {
   "cell_type": "code",
   "execution_count": 41,
   "metadata": {
    "collapsed": false
   },
   "outputs": [
    {
     "data": {
      "text/plain": [
       "(2176, 145)"
      ]
     },
     "execution_count": 41,
     "metadata": {},
     "output_type": "execute_result"
    }
   ],
   "source": [
    "np.shape(X_train)"
   ]
  },
  {
   "cell_type": "markdown",
   "metadata": {},
   "source": [
    "# Grid Search to find best set of parameters using all bands"
   ]
  },
  {
   "cell_type": "code",
   "execution_count": 43,
   "metadata": {
    "collapsed": false,
    "deletable": true,
    "editable": true
   },
   "outputs": [
    {
     "name": "stdout",
     "output_type": "stream",
     "text": [
      "Best parameters set found:\n",
      "\n",
      "{'C': 1000, 'gamma': 0.001, 'kernel': 'rbf'}\n",
      "\n",
      "Grid scores on development set:\n",
      "\n",
      "0.841 (+/-0.016) for {'C': 1, 'gamma': 0.001, 'kernel': 'rbf'}\n",
      "0.503 (+/-0.026) for {'C': 1, 'gamma': 0.0001, 'kernel': 'rbf'}\n",
      "0.904 (+/-0.015) for {'C': 10, 'gamma': 0.001, 'kernel': 'rbf'}\n",
      "0.844 (+/-0.018) for {'C': 10, 'gamma': 0.0001, 'kernel': 'rbf'}\n",
      "0.944 (+/-0.012) for {'C': 100, 'gamma': 0.001, 'kernel': 'rbf'}\n",
      "0.903 (+/-0.015) for {'C': 100, 'gamma': 0.0001, 'kernel': 'rbf'}\n",
      "0.964 (+/-0.017) for {'C': 1000, 'gamma': 0.001, 'kernel': 'rbf'}\n",
      "0.943 (+/-0.007) for {'C': 1000, 'gamma': 0.0001, 'kernel': 'rbf'}\n",
      "0.962 (+/-0.009) for {'C': 1, 'kernel': 'linear'}\n",
      "0.960 (+/-0.011) for {'C': 10, 'kernel': 'linear'}\n",
      "0.961 (+/-0.007) for {'C': 100, 'kernel': 'linear'}\n",
      "0.961 (+/-0.007) for {'C': 1000, 'kernel': 'linear'}\n"
     ]
    }
   ],
   "source": [
    "from sklearn.model_selection import GridSearchCV\n",
    "\n",
    "tuned_parameters = [{'kernel': ['rbf'], 'gamma': [1e-3, 1e-4],\n",
    "                     'C': [1, 10, 100, 1000]},\n",
    "                    {'kernel': ['linear'], 'C': [1, 10, 100, 1000]}]\n",
    "svm=SVC()\n",
    "#scores = cross_val_score(svm, X_pc3, y, cv=5)\n",
    "clf = GridSearchCV(svm, tuned_parameters, cv=5,)\n",
    "clf.fit(X_train, y_train)\n",
    "\n",
    "print(\"Best parameters set found:\")\n",
    "print()\n",
    "print(clf.best_params_)\n",
    "print()\n",
    "print(\"Grid scores on development set:\")\n",
    "print()\n",
    "means = clf.cv_results_['mean_test_score']\n",
    "stds = clf.cv_results_['std_test_score']\n",
    "for mean, std, params in zip(means, stds, clf.cv_results_['params']):\n",
    "        print(\"%0.3f (+/-%0.03f) for %r\"\n",
    "              % (mean, std * 2, params))"
   ]
  },
  {
   "cell_type": "code",
   "execution_count": 62,
   "metadata": {
    "collapsed": false
   },
   "outputs": [],
   "source": [
    "C=clf.best_params_['C']\n",
    "if(clf.best_params_['kernel']=='rbf'):\n",
    "    gamma=clf.best_params_['gamma']\n",
    "    svm=SVC(kernel='rbf',C=C,gamma=gamma)\n",
    "else:\n",
    "    svm=SVC(kernel='linear',C=C)"
   ]
  },
  {
   "cell_type": "code",
   "execution_count": 63,
   "metadata": {
    "collapsed": false
   },
   "outputs": [
    {
     "name": "stdout",
     "output_type": "stream",
     "text": [
      "Accuracy: 0.97\n",
      "Kappa coefficient: 0.97\n",
      "[[ 90   0   0   0   0   0   0   0   0   0   0   0   0   0]\n",
      " [  0  22   0   0   0   0   0   0   0   0   0   0   0   0]\n",
      " [  0   0  87   0   0   0   0   0   0   1   0   0   0   0]\n",
      " [  0   0   0  82   2   0   0   0   0   0   0   0   0   0]\n",
      " [  0   1   0   2  90   6   0   0   0   0   0   0   0   0]\n",
      " [  0   0   0   0   3  89   0   0   1   0   0   0   1   0]\n",
      " [  0   0   0   0   0   1  74   0   0   0   0   0   0   0]\n",
      " [  0   0   0   0   0   0   0  61   0   0   0   0   0   0]\n",
      " [  0   0   0   0   0   4   0   0 106   1   0   0   0   0]\n",
      " [  0   0   0   0   0   0   0   0   0  79   0   0   0   0]\n",
      " [  0   0   0   0   0   0   0   0   0   2  96   0   0   0]\n",
      " [  0   0   0   0   0   0   0   0   0   0   0  51   3   0]\n",
      " [  0   0   0   0   0   0   0   0   0   0   0   2  83   0]\n",
      " [  0   0   0   0   0   0   0   0   0   0   0   0   0  32]]\n"
     ]
    }
   ],
   "source": [
    "svm.fit(X_train,y_train)\n",
    "y_pred=svm.predict(X_test)\n",
    "acc=accuracy_score(y_test, y_pred)\n",
    "print(\"Accuracy: %0.2f\" % acc)\n",
    "kappa_score = cohen_kappa_score(y_test,y_pred)\n",
    "print(\"Kappa coefficient: %0.2f\" % kappa_score)\n",
    "print(confusion_matrix(y_test,y_pred))  "
   ]
  },
  {
   "cell_type": "markdown",
   "metadata": {},
   "source": [
    "# Grid Search to find best set of parameters using PCs"
   ]
  },
  {
   "cell_type": "code",
   "execution_count": 64,
   "metadata": {
    "collapsed": false
   },
   "outputs": [
    {
     "name": "stdout",
     "output_type": "stream",
     "text": [
      "Best parameters set found:\n",
      "\n",
      "{'C': 1000, 'gamma': 0.001, 'kernel': 'rbf'}\n",
      "\n",
      "Grid scores on development set:\n",
      "\n",
      "0.776 (+/-0.023) for {'C': 1, 'gamma': 0.001, 'kernel': 'rbf'}\n",
      "0.489 (+/-0.032) for {'C': 1, 'gamma': 0.0001, 'kernel': 'rbf'}\n",
      "0.836 (+/-0.034) for {'C': 10, 'gamma': 0.001, 'kernel': 'rbf'}\n",
      "0.771 (+/-0.023) for {'C': 10, 'gamma': 0.0001, 'kernel': 'rbf'}\n",
      "0.852 (+/-0.024) for {'C': 100, 'gamma': 0.001, 'kernel': 'rbf'}\n",
      "0.837 (+/-0.038) for {'C': 100, 'gamma': 0.0001, 'kernel': 'rbf'}\n",
      "0.858 (+/-0.026) for {'C': 1000, 'gamma': 0.001, 'kernel': 'rbf'}\n",
      "0.844 (+/-0.022) for {'C': 1000, 'gamma': 0.0001, 'kernel': 'rbf'}\n",
      "0.852 (+/-0.022) for {'C': 1, 'kernel': 'linear'}\n",
      "0.854 (+/-0.015) for {'C': 10, 'kernel': 'linear'}\n",
      "0.856 (+/-0.021) for {'C': 100, 'kernel': 'linear'}\n",
      "0.855 (+/-0.026) for {'C': 1000, 'kernel': 'linear'}\n"
     ]
    }
   ],
   "source": [
    "from sklearn.model_selection import GridSearchCV\n",
    "\n",
    "tuned_parameters = [{'kernel': ['rbf'], 'gamma': [1e-3, 1e-4],\n",
    "                     'C': [1, 10, 100, 1000]},\n",
    "                    {'kernel': ['linear'], 'C': [1, 10, 100, 1000]}]\n",
    "svm=SVC()\n",
    "#scores = cross_val_score(svm, X_pc3, y, cv=5)\n",
    "clf = GridSearchCV(svm, tuned_parameters, cv=5,)\n",
    "clf.fit(Xpc3_train, ypc3_train)\n",
    "\n",
    "print(\"Best parameters set found:\")\n",
    "print()\n",
    "print(clf.best_params_)\n",
    "print()\n",
    "print(\"Grid scores on development set:\")\n",
    "print()\n",
    "means = clf.cv_results_['mean_test_score']\n",
    "stds = clf.cv_results_['std_test_score']\n",
    "for mean, std, params in zip(means, stds, clf.cv_results_['params']):\n",
    "        print(\"%0.3f (+/-%0.03f) for %r\"\n",
    "              % (mean, std * 2, params))"
   ]
  },
  {
   "cell_type": "code",
   "execution_count": 65,
   "metadata": {
    "collapsed": true
   },
   "outputs": [],
   "source": [
    "C=clf.best_params_['C']\n",
    "if(clf.best_params_['kernel']=='rbf'):\n",
    "    gamma=clf.best_params_['gamma']\n",
    "    svm=SVC(kernel='rbf',C=C,gamma=gamma)\n",
    "else:\n",
    "    svm=SVC(kernel='linear',C=C)"
   ]
  },
  {
   "cell_type": "code",
   "execution_count": 67,
   "metadata": {
    "collapsed": false
   },
   "outputs": [
    {
     "name": "stdout",
     "output_type": "stream",
     "text": [
      "Accuracy: 0.87\n",
      "Kappa coefficient: 0.86\n",
      "[[109   0   0   0   0   0   0   0   0   0   0   0   0   0]\n",
      " [  0  32   0   0   0   1   0   0   0   0   0   0   0   0]\n",
      " [  0   0  75   0   0   0   0   0   0   5   0   0   2   0]\n",
      " [  0   0   1  66   4   2   0   0   1   2   0   0   0   0]\n",
      " [  0   3   0   0  74   8   0   0   0   0   0   0   0   0]\n",
      " [  0   1   0   6  12  52   0   0   8   0   0   0   0   0]\n",
      " [  0   0   0   0   0   0  81   0   0   0   0   0   0   0]\n",
      " [  0   0   0   0   0   0   0  55   0   2   0   5   1   0]\n",
      " [  0   0   2   7   0   9   0   0  77   0   0   0   4   0]\n",
      " [  0   0  14   0   0   0   0   5   0  58   8   0   1   0]\n",
      " [  0   0   0   0   0   0   0   0   0   4 101   0   0   0]\n",
      " [  0   0   0   0   0   0   0   2   0   0   0  38   1   0]\n",
      " [  0   0   0   3   1   0   0   6   2   1   0   3  81   0]\n",
      " [  0   0   0   0   0   0   0   0   0   0   0   0   0  36]]\n"
     ]
    }
   ],
   "source": [
    "svm.fit(Xpc3_train,ypc3_train)\n",
    "ypc3_pred=svm.predict(Xpc3_test)\n",
    "acc=accuracy_score(ypc3_test, ypc3_pred)\n",
    "print(\"Accuracy: %0.2f\" % acc)\n",
    "kappa_score = cohen_kappa_score(ypc3_test,ypc3_pred)\n",
    "print(\"Kappa coefficient: %0.2f\" % kappa_score)\n",
    "print(confusion_matrix(ypc3_test,ypc3_pred))  "
   ]
  },
  {
   "cell_type": "code",
   "execution_count": null,
   "metadata": {
    "collapsed": true
   },
   "outputs": [],
   "source": []
  }
 ],
 "metadata": {
  "kernelspec": {
   "display_name": "Python 3",
   "language": "python",
   "name": "python3"
  },
  "language_info": {
   "codemirror_mode": {
    "name": "ipython",
    "version": 3
   },
   "file_extension": ".py",
   "mimetype": "text/x-python",
   "name": "python",
   "nbconvert_exporter": "python",
   "pygments_lexer": "ipython3",
   "version": "3.6.2"
  }
 },
 "nbformat": 4,
 "nbformat_minor": 2
}
