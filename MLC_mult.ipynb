{
 "cells": [
  {
   "cell_type": "code",
   "execution_count": 9,
   "metadata": {
    "collapsed": true
   },
   "outputs": [],
   "source": [
    "import numpy as np\n",
    "from sklearn.model_selection import train_test_split\n",
    "from sklearn.metrics.classification import cohen_kappa_score\n",
    "from sklearn.metrics import accuracy_score\n",
    "from sklearn.metrics import classification_report, confusion_matrix \n",
    "import scipy.io as scio\n",
    "from sklearn.preprocessing import StandardScaler\n",
    "from sklearn.decomposition import PCA\n",
    "import time\n",
    "import pandas as pd\n",
    "import scipy.io as scio\n",
    "from scipy.stats import norm"
   ]
  },
  {
   "cell_type": "code",
   "execution_count": 10,
   "metadata": {
    "collapsed": true
   },
   "outputs": [],
   "source": [
    "class Dataset:\n",
    "    \n",
    "    def __init__(self,name,form):\n",
    "        \n",
    "        self.name=name\n",
    "        self.form=form\n",
    "        \n",
    "    def load(self):\n",
    "        \n",
    "        self.data_dict=scio.loadmat(self.name+self.form)\n",
    "        self.data=self.data_dict[self.name]"
   ]
  },
  {
   "cell_type": "code",
   "execution_count": 11,
   "metadata": {
    "collapsed": true
   },
   "outputs": [],
   "source": [
    "def get_wts(arr):\n",
    "    return norm.cdf(arr,np.mean(arr),np.std(arr))\n",
    "\n",
    "bots=Dataset(\"Botswana\",\".mat\")\n",
    "bots.load()\n",
    "hypd=bots.data\n",
    "\n",
    "\n",
    "shp=np.shape(hypd)\n",
    "row=shp[0]\n",
    "col=shp[1]\n",
    "bands=shp[2]\n",
    "    \n",
    "hypd=hypd.reshape(row*col,bands)\n",
    "    \n",
    "bots_gt=Dataset('Botswana_gt','.mat')\n",
    "bots_gt.load()\n",
    "y=bots_gt.data.reshape(row*col,1)\n",
    "ind=np.where(y[:,0]!=0)\n",
    "X_hypd=hypd[ind]\n",
    "y = y[y!=0]"
   ]
  },
  {
   "cell_type": "code",
   "execution_count": 12,
   "metadata": {
    "collapsed": false
   },
   "outputs": [],
   "source": [
    "df = pd.DataFrame(X_hypd)\n",
    "\n",
    "df2=pd.DataFrame()\n",
    "\n",
    "band=dict()\n",
    "band['Blue']=np.linspace(490,530,5)\n",
    "band['Green']=np.linspace(530,590,7)\n",
    "band['Red']=np.linspace(630,680,6)\n",
    "band['NIR']=np.linspace(850,880,4)\n",
    "\n",
    "\n",
    "\n",
    "wblue=np.ediff1d(get_wts(band['Blue']))\n",
    "wgreen=np.ediff1d(get_wts(band['Green']))\n",
    "wred=np.ediff1d(get_wts(band['Red']))\n",
    "wnir=np.ediff1d(get_wts(band['NIR']))\n",
    "\n",
    "\n",
    "df2['Blue'] = (df.iloc[:, 0:4].multiply(wblue, axis=1).sum(axis=1))/np.sum(wblue)\n",
    "df2['Green'] = (df.iloc[:, 4:10].multiply(wgreen, axis=1).sum(axis=1))/np.sum(wgreen)\n",
    "df2['Red'] = (df.iloc[:, 14:19].multiply(wred, axis=1).sum(axis=1))/np.sum(wred)\n",
    "df2['NIR'] = (df.iloc[:, 36:39].multiply(wnir, axis=1).sum(axis=1))/np.sum(wnir)"
   ]
  },
  {
   "cell_type": "code",
   "execution_count": 13,
   "metadata": {
    "collapsed": true
   },
   "outputs": [],
   "source": [
    "X_train, X_test, y_train, y_test = train_test_split(df2, y, test_size=0.33)\n",
    "\n",
    "from sklearn.preprocessing import StandardScaler\n",
    "sc = StandardScaler()  \n",
    "sc.fit_transform(X_train)\n",
    "Xn_train = sc.transform(X_train)\n",
    "Xn_test = sc.transform(X_test)"
   ]
  },
  {
   "cell_type": "code",
   "execution_count": 14,
   "metadata": {
    "collapsed": false
   },
   "outputs": [
    {
     "name": "stdout",
     "output_type": "stream",
     "text": [
      "Training time is 0.2791762351989746 seconds ---\n"
     ]
    }
   ],
   "source": [
    "mu=dict()\n",
    "icov=dict()\n",
    "det=dict()\n",
    "start_time = time.time()\n",
    "for cls in np.unique(y_train):\n",
    "    ind=np.where(y_train==cls)\n",
    "    X_cls=Xn_train[ind]\n",
    "    mu[cls]=np.mean(X_cls,0)\n",
    "    cov=np.cov(X_cls.T)\n",
    "    det[cls]=np.linalg.det(cov)\n",
    "    icov[cls] = np.linalg.inv(cov)\n",
    "print(\"Training time is %s seconds ---\" % (time.time() - start_time))"
   ]
  },
  {
   "cell_type": "code",
   "execution_count": 15,
   "metadata": {
    "collapsed": true
   },
   "outputs": [],
   "source": [
    "def find_class(test,mu,det,icov):\n",
    "    tot_cls=len(det)\n",
    "    pmax=-1000000000000000\n",
    "    for i in list(range(1,15,1)):\n",
    "        test_s=test-mu[i]\n",
    "        logp=-np.log(det[i])-np.matmul(np.matmul(test_s,icov[i]),test_s.T)\n",
    "    \n",
    "        if(logp>pmax):\n",
    "            pmax=logp\n",
    "            y_pred=i\n",
    "    return y_pred\n",
    "    "
   ]
  },
  {
   "cell_type": "code",
   "execution_count": null,
   "metadata": {
    "collapsed": true
   },
   "outputs": [],
   "source": []
  }
 ],
 "metadata": {
  "kernelspec": {
   "display_name": "Python 3",
   "language": "python",
   "name": "python3"
  },
  "language_info": {
   "codemirror_mode": {
    "name": "ipython",
    "version": 3
   },
   "file_extension": ".py",
   "mimetype": "text/x-python",
   "name": "python",
   "nbconvert_exporter": "python",
   "pygments_lexer": "ipython3",
   "version": "3.6.2"
  }
 },
 "nbformat": 4,
 "nbformat_minor": 2
}
